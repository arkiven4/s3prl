{
 "cells": [
  {
   "cell_type": "code",
   "execution_count": 12,
   "id": "f4ac0a67",
   "metadata": {},
   "outputs": [],
   "source": [
    "import torch\n",
    "import pickle"
   ]
  },
  {
   "cell_type": "code",
   "execution_count": 16,
   "id": "3af63911",
   "metadata": {},
   "outputs": [],
   "source": [
    "import sys\n",
    "import types\n",
    "\n",
    "# Create dummy module\n",
    "optimizers = types.ModuleType(\"optimizers\")\n",
    "sys.modules[\"optimizers\"] = optimizers\n",
    "\n",
    "# Dummy WarmupLinearSchedule class\n",
    "class WarmupLinearSchedule:\n",
    "    def __init__(self, *args, **kwargs):\n",
    "        pass\n",
    "\n",
    "optimizers.WarmupLinearSchedule = WarmupLinearSchedule"
   ]
  },
  {
   "cell_type": "code",
   "execution_count": 17,
   "id": "75535258",
   "metadata": {},
   "outputs": [],
   "source": [
    "hola = torch.load(\"/home/is/dwipraseetyo-a/NAS_HAI/Project/s3prl/s3prl/data/hg_pre/states-1000000.ckpt\", map_location='cpu', weights_only=False)"
   ]
  },
  {
   "cell_type": "code",
   "execution_count": 23,
   "id": "4b2b125d",
   "metadata": {},
   "outputs": [
    {
     "data": {
      "text/plain": [
       "{'transformer': {'input_dim': -1,\n",
       "  'hidden_size': 768,\n",
       "  'num_hidden_layers': 3,\n",
       "  'num_attention_heads': 12,\n",
       "  'intermediate_size': 3072,\n",
       "  'hidden_act': 'gelu',\n",
       "  'hidden_dropout_prob': 0.1,\n",
       "  'attention_probs_dropout_prob': 0.1,\n",
       "  'initializer_range': 0.02,\n",
       "  'layer_norm_eps': 1e-12,\n",
       "  'share_layer': False,\n",
       "  'pre_layer_norm': False},\n",
       " 'task': {'loss': 'L1',\n",
       "  'sequence_length': 1500,\n",
       "  'position_encoding_size': 768,\n",
       "  'mask_proportion': 0.15,\n",
       "  'mask_consecutive_min': 7,\n",
       "  'mask_consecutive_max': 7,\n",
       "  'mask_allow_overlap': True,\n",
       "  'mask_bucket_ratio': 1.5,\n",
       "  'mask_frequency': 0.2,\n",
       "  'noise_proportion': 0.15},\n",
       " 'audio': {'target_level': -25,\n",
       "  'win_ms': 25,\n",
       "  'hop_ms': 10,\n",
       "  'n_freq': 201,\n",
       "  'n_mels': 80,\n",
       "  'n_mfcc': 13,\n",
       "  'input': {'feat_type': 'mel',\n",
       "   'channel': 0,\n",
       "   'log': True,\n",
       "   'delta': 0,\n",
       "   'cmvn': True},\n",
       "  'target': {'feat_type': 'mel',\n",
       "   'channel': 0,\n",
       "   'log': True,\n",
       "   'delta': 0,\n",
       "   'cmvn': True}}}"
      ]
     },
     "execution_count": 23,
     "metadata": {},
     "output_type": "execute_result"
    }
   ],
   "source": [
    "hola['Config']"
   ]
  },
  {
   "cell_type": "code",
   "execution_count": null,
   "id": "e8c02b90",
   "metadata": {},
   "outputs": [
    {
     "ename": "KeyError",
     "evalue": "('Config', 'Args')",
     "output_type": "error",
     "traceback": [
      "\u001b[31m---------------------------------------------------------------------------\u001b[39m",
      "\u001b[31mKeyError\u001b[39m                                  Traceback (most recent call last)",
      "\u001b[36mCell\u001b[39m\u001b[36m \u001b[39m\u001b[32mIn[20]\u001b[39m\u001b[32m, line 1\u001b[39m\n\u001b[32m----> \u001b[39m\u001b[32m1\u001b[39m \u001b[43mhola\u001b[49m\u001b[43m[\u001b[49m\u001b[33;43m'\u001b[39;49m\u001b[33;43mConfig\u001b[39;49m\u001b[33;43m'\u001b[39;49m\u001b[43m,\u001b[49m\u001b[43m \u001b[49m\u001b[33;43m'\u001b[39;49m\u001b[33;43mArgs\u001b[39;49m\u001b[33;43m'\u001b[39;49m\u001b[43m]\u001b[49m\n",
      "\u001b[31mKeyError\u001b[39m: ('Config', 'Args')"
     ]
    }
   ],
   "source": [
    "['Config', 'Args']"
   ]
  },
  {
   "cell_type": "code",
   "execution_count": 6,
   "id": "b146006d",
   "metadata": {},
   "outputs": [
    {
     "data": {
      "text/plain": [
       "{'images': [],\n",
       " 'audio': [],\n",
       " 'histograms': [],\n",
       " 'scalars': [],\n",
       " 'distributions': [],\n",
       " 'tensors': [],\n",
       " 'graph': False,\n",
       " 'meta_graph': False,\n",
       " 'run_metadata': []}"
      ]
     },
     "execution_count": 6,
     "metadata": {},
     "output_type": "execute_result"
    }
   ],
   "source": [
    "from tensorboard.backend.event_processing import event_accumulator\n",
    "\n",
    "ea = event_accumulator.EventAccumulator(\"/home/is/dwipraseetyo-a/NAS_HAI/Project/s3prl/s3prl/result/pretrain/tera_try2/events.out.tfevents.1753024485.pcgpu009\")\n",
    "ea.Reload()\n",
    "\n",
    "ea.Tags()"
   ]
  }
 ],
 "metadata": {
  "kernelspec": {
   "display_name": "Python 3 (ipykernel)",
   "language": "python",
   "name": "python3"
  },
  "language_info": {
   "codemirror_mode": {
    "name": "ipython",
    "version": 3
   },
   "file_extension": ".py",
   "mimetype": "text/x-python",
   "name": "python",
   "nbconvert_exporter": "python",
   "pygments_lexer": "ipython3",
   "version": "3.12.3"
  }
 },
 "nbformat": 4,
 "nbformat_minor": 5
}
